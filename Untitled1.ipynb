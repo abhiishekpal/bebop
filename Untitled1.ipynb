{
 "cells": [
  {
   "cell_type": "code",
   "execution_count": 6,
   "metadata": {},
   "outputs": [],
   "source": [
    "from selenium import webdriver\n",
    "from selenium.webdriver.common.keys import Keys\n",
    "import time\n",
    "driver = webdriver.Firefox()"
   ]
  },
  {
   "cell_type": "code",
   "execution_count": 57,
   "metadata": {},
   "outputs": [],
   "source": [
    "url = 'https://www.samsung.com/in/smartphones/galaxy-note/'\n",
    "driver.get(url)"
   ]
  },
  {
   "cell_type": "code",
   "execution_count": 58,
   "metadata": {},
   "outputs": [
    {
     "name": "stdout",
     "output_type": "stream",
     "text": [
      "Galaxy Note10 ₹ 69,999.00\n",
      "Galaxy Note10+ ₹ 79,999.00\n",
      "Galaxy Note9 ₹ 67,900.00\n"
     ]
    }
   ],
   "source": [
    "devices = driver.find_elements_by_xpath(\"//strong[@class='s-txt-title']\") \n",
    "prices = driver.find_elements_by_xpath(\"//span[@class='cm-shop-card__price-num']\")\n",
    "\n",
    "import pandas as pd\n",
    "df = {'model':[], 'price':[]}\n",
    "for name, price in zip(devices, prices):\n",
    "    print(name.text, price.text)\n",
    "    df['model'].append(name.text)\n",
    "    df['price'].append(price.text[1:-3].replace(',',''))\n",
    "    \n",
    "df = pd.DataFrame(df)"
   ]
  },
  {
   "cell_type": "code",
   "execution_count": 59,
   "metadata": {},
   "outputs": [],
   "source": [
    "df.to_csv('note-series.csv')"
   ]
  },
  {
   "cell_type": "code",
   "execution_count": null,
   "metadata": {},
   "outputs": [],
   "source": []
  }
 ],
 "metadata": {
  "kernelspec": {
   "display_name": "Python 3",
   "language": "python",
   "name": "python3"
  },
  "language_info": {
   "codemirror_mode": {
    "name": "ipython",
    "version": 3
   },
   "file_extension": ".py",
   "mimetype": "text/x-python",
   "name": "python",
   "nbconvert_exporter": "python",
   "pygments_lexer": "ipython3",
   "version": "3.7.5"
  }
 },
 "nbformat": 4,
 "nbformat_minor": 4
}
